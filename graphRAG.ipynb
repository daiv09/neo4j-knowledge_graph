{
 "cells": [
  {
   "cell_type": "code",
   "execution_count": 4,
   "id": "8766159b",
   "metadata": {},
   "outputs": [
    {
     "name": "stdout",
     "output_type": "stream",
     "text": [
      "Note: you may need to restart the kernel to use updated packages.\n"
     ]
    }
   ],
   "source": [
    "%pip install --upgrade --quiet langchain langchain-community langchain-groq neo4j"
   ]
  },
  {
   "cell_type": "code",
   "execution_count": 5,
   "id": "01a3b7c0",
   "metadata": {},
   "outputs": [],
   "source": [
    "NEO4J_URI=\"your_neo4j_uri"\n",
    "NEO4J_USERNAME=\"neo4j\"\n",
    "NEO4J_PASSWORD=\"your_neo4j_pass\""
   ]
  },
  {
   "cell_type": "code",
   "execution_count": 6,
   "id": "eaabda16",
   "metadata": {},
   "outputs": [],
   "source": [
    "import os\n",
    "os.environ[\"NEO4J_URI\"] = NEO4J_URI\n",
    "os.environ[\"NEO4J_USERNAME\"] = NEO4J_USERNAME\n",
    "os.environ[\"NEO4J_PASSWORD\"] = NEO4J_PASSWORD"
   ]
  },
  {
   "cell_type": "code",
   "execution_count": 7,
   "id": "ad9be2ef",
   "metadata": {},
   "outputs": [
    {
     "name": "stderr",
     "output_type": "stream",
     "text": [
      "C:\\Users\\Admin\\AppData\\Local\\Temp\\ipykernel_1660\\930332361.py:2: LangChainDeprecationWarning: The class `Neo4jGraph` was deprecated in LangChain 0.3.8 and will be removed in 1.0. An updated version of the class exists in the :class:`~langchain-neo4j package and should be used instead. To use it run `pip install -U :class:`~langchain-neo4j` and import as `from :class:`~langchain_neo4j import Neo4jGraph``.\n",
      "  graph=Neo4jGraph(\n"
     ]
    }
   ],
   "source": [
    "from langchain_community.graphs import Neo4jGraph\n",
    "graph=Neo4jGraph(\n",
    "    url=NEO4J_URI,\n",
    "    username=NEO4J_USERNAME,\n",
    "    password=NEO4J_PASSWORD\n",
    ")"
   ]
  },
  {
   "cell_type": "code",
   "execution_count": 8,
   "id": "b15487a0",
   "metadata": {},
   "outputs": [
    {
     "data": {
      "text/plain": [
       "<langchain_community.graphs.neo4j_graph.Neo4jGraph at 0x194fabd3ef0>"
      ]
     },
     "execution_count": 8,
     "metadata": {},
     "output_type": "execute_result"
    }
   ],
   "source": [
    "graph"
   ]
  },
  {
   "cell_type": "code",
   "execution_count": 9,
   "id": "ed24ea51",
   "metadata": {},
   "outputs": [],
   "source": [
    "groq_api_key=\"your_groq_api_key_here\""
   ]
  },
  {
   "cell_type": "code",
   "execution_count": 10,
   "id": "f2d37f23",
   "metadata": {},
   "outputs": [
    {
     "data": {
      "text/plain": [
       "ChatGroq(client=<groq.resources.chat.completions.Completions object at 0x00000194FF065820>, async_client=<groq.resources.chat.completions.AsyncCompletions object at 0x00000194FF1A8C20>, model_name='Gemma2-9b-It', model_kwargs={}, groq_api_key=SecretStr('**********'))"
      ]
     },
     "execution_count": 10,
     "metadata": {},
     "output_type": "execute_result"
    }
   ],
   "source": [
    "from langchain_groq import ChatGroq\n",
    "llm=ChatGroq(groq_api_key=groq_api_key,model_name=\"Gemma2-9b-It\")\n",
    "llm"
   ]
  },
  {
   "cell_type": "code",
   "execution_count": 11,
   "id": "33fd26f5",
   "metadata": {},
   "outputs": [
    {
     "data": {
      "text/html": [
       "<div>\n",
       "<style scoped>\n",
       "    .dataframe tbody tr th:only-of-type {\n",
       "        vertical-align: middle;\n",
       "    }\n",
       "\n",
       "    .dataframe tbody tr th {\n",
       "        vertical-align: top;\n",
       "    }\n",
       "\n",
       "    .dataframe thead th {\n",
       "        text-align: right;\n",
       "    }\n",
       "</style>\n",
       "<table border=\"1\" class=\"dataframe\">\n",
       "  <thead>\n",
       "    <tr style=\"text-align: right;\">\n",
       "      <th></th>\n",
       "      <th>Id</th>\n",
       "      <th>Name</th>\n",
       "      <th>Gender</th>\n",
       "      <th>Job</th>\n",
       "      <th>House</th>\n",
       "      <th>Wand</th>\n",
       "      <th>Patronus</th>\n",
       "      <th>Species</th>\n",
       "      <th>Blood status</th>\n",
       "      <th>Hair colour</th>\n",
       "      <th>Eye colour</th>\n",
       "      <th>Loyalty</th>\n",
       "      <th>Skills</th>\n",
       "      <th>Birth</th>\n",
       "      <th>Death</th>\n",
       "    </tr>\n",
       "  </thead>\n",
       "  <tbody>\n",
       "    <tr>\n",
       "      <th>0</th>\n",
       "      <td>1</td>\n",
       "      <td>Harry James Potter</td>\n",
       "      <td>Male</td>\n",
       "      <td>Student</td>\n",
       "      <td>Gryffindor</td>\n",
       "      <td>11\"  Holly  phoenix feather</td>\n",
       "      <td>Stag</td>\n",
       "      <td>Human</td>\n",
       "      <td>Half-blood</td>\n",
       "      <td>Black</td>\n",
       "      <td>Bright green</td>\n",
       "      <td>Albus Dumbledore | Dumbledore's Army | Order o...</td>\n",
       "      <td>Parseltongue| Defence Against the Dark Arts | ...</td>\n",
       "      <td>31 July 1980</td>\n",
       "      <td>NaN</td>\n",
       "    </tr>\n",
       "    <tr>\n",
       "      <th>1</th>\n",
       "      <td>2</td>\n",
       "      <td>Ronald Bilius Weasley</td>\n",
       "      <td>Male</td>\n",
       "      <td>Student</td>\n",
       "      <td>Gryffindor</td>\n",
       "      <td>12\" Ash unicorn tail hair</td>\n",
       "      <td>Jack Russell terrier</td>\n",
       "      <td>Human</td>\n",
       "      <td>Pure-blood</td>\n",
       "      <td>Red</td>\n",
       "      <td>Blue</td>\n",
       "      <td>Dumbledore's Army | Order of the Phoenix | Hog...</td>\n",
       "      <td>Wizard chess | Quidditch goalkeeping</td>\n",
       "      <td>1 March 1980</td>\n",
       "      <td>NaN</td>\n",
       "    </tr>\n",
       "    <tr>\n",
       "      <th>2</th>\n",
       "      <td>3</td>\n",
       "      <td>Hermione Jean Granger</td>\n",
       "      <td>Female</td>\n",
       "      <td>Student</td>\n",
       "      <td>Gryffindor</td>\n",
       "      <td>10¾\"  vine wood dragon heartstring</td>\n",
       "      <td>Otter</td>\n",
       "      <td>Human</td>\n",
       "      <td>Muggle-born</td>\n",
       "      <td>Brown</td>\n",
       "      <td>Brown</td>\n",
       "      <td>Dumbledore's Army | Order of the Phoenix | Hog...</td>\n",
       "      <td>Almost everything</td>\n",
       "      <td>19 September, 1979</td>\n",
       "      <td>NaN</td>\n",
       "    </tr>\n",
       "    <tr>\n",
       "      <th>3</th>\n",
       "      <td>4</td>\n",
       "      <td>Albus Percival Wulfric Brian Dumbledore</td>\n",
       "      <td>Male</td>\n",
       "      <td>Headmaster</td>\n",
       "      <td>Gryffindor</td>\n",
       "      <td>15\" Elder Thestral tail hair core</td>\n",
       "      <td>Phoenix</td>\n",
       "      <td>Human</td>\n",
       "      <td>Half-blood</td>\n",
       "      <td>Silver| formerly auburn</td>\n",
       "      <td>Blue</td>\n",
       "      <td>Dumbledore's Army | Order of the Phoenix | Hog...</td>\n",
       "      <td>Considered by many to be one of the most power...</td>\n",
       "      <td>Late August 1881</td>\n",
       "      <td>30 June, 1997</td>\n",
       "    </tr>\n",
       "    <tr>\n",
       "      <th>4</th>\n",
       "      <td>5</td>\n",
       "      <td>Rubeus Hagrid</td>\n",
       "      <td>Male</td>\n",
       "      <td>Keeper of Keys and Grounds | Professor of Care...</td>\n",
       "      <td>Gryffindor</td>\n",
       "      <td>16\"  Oak unknown core</td>\n",
       "      <td>NaN</td>\n",
       "      <td>Half-Human/Half-Giant</td>\n",
       "      <td>Part-Human (Half-giant)</td>\n",
       "      <td>Black</td>\n",
       "      <td>Black</td>\n",
       "      <td>Albus Dumbledore | Order of the Phoenix | Hogw...</td>\n",
       "      <td>Resistant to stunning spells| above average st...</td>\n",
       "      <td>6 December 1928</td>\n",
       "      <td>NaN</td>\n",
       "    </tr>\n",
       "  </tbody>\n",
       "</table>\n",
       "</div>"
      ],
      "text/plain": [
       "   Id                                     Name  Gender  \\\n",
       "0   1                       Harry James Potter    Male   \n",
       "1   2                    Ronald Bilius Weasley    Male   \n",
       "2   3                    Hermione Jean Granger  Female   \n",
       "3   4  Albus Percival Wulfric Brian Dumbledore    Male   \n",
       "4   5                            Rubeus Hagrid    Male   \n",
       "\n",
       "                                                 Job       House  \\\n",
       "0                                            Student  Gryffindor   \n",
       "1                                            Student  Gryffindor   \n",
       "2                                            Student  Gryffindor   \n",
       "3                                         Headmaster  Gryffindor   \n",
       "4  Keeper of Keys and Grounds | Professor of Care...  Gryffindor   \n",
       "\n",
       "                                 Wand              Patronus  \\\n",
       "0         11\"  Holly  phoenix feather                  Stag   \n",
       "1          12\" Ash unicorn tail hair   Jack Russell terrier   \n",
       "2  10¾\"  vine wood dragon heartstring                 Otter   \n",
       "3   15\" Elder Thestral tail hair core               Phoenix   \n",
       "4               16\"  Oak unknown core                   NaN   \n",
       "\n",
       "                 Species             Blood status              Hair colour  \\\n",
       "0                  Human               Half-blood                    Black   \n",
       "1                  Human               Pure-blood                      Red   \n",
       "2                  Human              Muggle-born                    Brown   \n",
       "3                  Human               Half-blood  Silver| formerly auburn   \n",
       "4  Half-Human/Half-Giant  Part-Human (Half-giant)                    Black   \n",
       "\n",
       "     Eye colour                                            Loyalty  \\\n",
       "0  Bright green  Albus Dumbledore | Dumbledore's Army | Order o...   \n",
       "1          Blue  Dumbledore's Army | Order of the Phoenix | Hog...   \n",
       "2         Brown  Dumbledore's Army | Order of the Phoenix | Hog...   \n",
       "3          Blue  Dumbledore's Army | Order of the Phoenix | Hog...   \n",
       "4         Black  Albus Dumbledore | Order of the Phoenix | Hogw...   \n",
       "\n",
       "                                              Skills               Birth  \\\n",
       "0  Parseltongue| Defence Against the Dark Arts | ...        31 July 1980   \n",
       "1               Wizard chess | Quidditch goalkeeping        1 March 1980   \n",
       "2                                  Almost everything  19 September, 1979   \n",
       "3  Considered by many to be one of the most power...    Late August 1881   \n",
       "4  Resistant to stunning spells| above average st...     6 December 1928   \n",
       "\n",
       "            Death  \n",
       "0             NaN  \n",
       "1             NaN  \n",
       "2             NaN  \n",
       "3  30 June, 1997   \n",
       "4             NaN  "
      ]
     },
     "execution_count": 11,
     "metadata": {},
     "output_type": "execute_result"
    }
   ],
   "source": [
    "import pandas as pd\n",
    "\n",
    "# Load the dataset\n",
    "df = pd.read_csv(\"Characters.csv\", sep=';')\n",
    "\n",
    "# Show a few rows\n",
    "df.head()\n"
   ]
  },
  {
   "cell_type": "code",
   "execution_count": 12,
   "id": "a8e4b374",
   "metadata": {},
   "outputs": [],
   "source": [
    "db_query = \"\"\"\n",
    "LOAD CSV WITH HEADERS FROM 'https://raw.githubusercontent.com/daiv09/neo4j-knowledge_graph/refs/heads/main/Characters.csv' AS row\n",
    "FIELDTERMINATOR ';'\n",
    "MERGE (p:Person {name: row.Name})\n",
    "SET p.id = row.Id,\n",
    "    p.gender = row.Gender,\n",
    "    p.job = row.Job,\n",
    "    p.wand = row.Wand,\n",
    "    p.patronus = row.Patronus,\n",
    "    p.species = row.Species,\n",
    "    p.blood_status = row.`Blood status`,\n",
    "    p.hair_color = row.`Hair colour`,\n",
    "    p.eye_color = row.`Eye colour`,\n",
    "    p.skills = row.Skills,\n",
    "    p.birth = row.Birth,\n",
    "    p.death = row.Death\n",
    "\n",
    "WITH p, row\n",
    "WHERE row.House IS NOT NULL AND row.House <> ''\n",
    "MERGE (h:House {name: row.House})\n",
    "MERGE (p)-[:BELONGS_TO]->(h)\n",
    "\n",
    "WITH p, row\n",
    "WHERE row.Loyalty IS NOT NULL AND row.Loyalty <> ''\n",
    "UNWIND split(row.Loyalty, '|') AS org\n",
    "MERGE (o:Organization {name: trim(org)})\n",
    "MERGE (p)-[:LOYAL_TO]->(o);\n",
    "\"\"\"\n"
   ]
  },
  {
   "cell_type": "code",
   "execution_count": 13,
   "id": "4f469c70",
   "metadata": {},
   "outputs": [
    {
     "data": {
      "text/plain": [
       "<langchain_community.graphs.neo4j_graph.Neo4jGraph at 0x194fabd3ef0>"
      ]
     },
     "execution_count": 13,
     "metadata": {},
     "output_type": "execute_result"
    }
   ],
   "source": [
    "graph"
   ]
  },
  {
   "cell_type": "code",
   "execution_count": 14,
   "id": "1ca14b7f",
   "metadata": {},
   "outputs": [
    {
     "data": {
      "text/plain": [
       "[]"
      ]
     },
     "execution_count": 14,
     "metadata": {},
     "output_type": "execute_result"
    }
   ],
   "source": [
    "graph.query(db_query)"
   ]
  },
  {
   "cell_type": "code",
   "execution_count": 15,
   "id": "94b0baef",
   "metadata": {},
   "outputs": [
    {
     "name": "stdout",
     "output_type": "stream",
     "text": [
      "Node properties:\n",
      "Person {born: INTEGER, name: STRING, id: STRING, gender: STRING, job: STRING, wand: STRING, patronus: STRING, species: STRING, blood_status: STRING, hair_color: STRING, eye_color: STRING, skills: STRING, birth: STRING, death: STRING}\n",
      "Actor {born: INTEGER, name: STRING}\n",
      "Movie {title: STRING, released: INTEGER}\n",
      "House {name: STRING}\n",
      "Organization {name: STRING}\n",
      "Relationship properties:\n",
      "\n",
      "The relationships:\n",
      "(:Person)-[:LIKES]->(:Movie)\n",
      "(:Person)-[:ACTED_IN]->(:Movie)\n",
      "(:Person)-[:BELONGS_TO]->(:House)\n",
      "(:Person)-[:LOYAL_TO]->(:Organization)\n",
      "(:Actor)-[:ACTED_IN]->(:Movie)\n"
     ]
    }
   ],
   "source": [
    "graph.refresh_schema()\n",
    "print(graph.schema)"
   ]
  },
  {
   "cell_type": "code",
   "execution_count": 16,
   "id": "d53a2dd7",
   "metadata": {},
   "outputs": [],
   "source": [
    "from langchain.chains import GraphCypherQAChain\n",
    "\n",
    "chain = GraphCypherQAChain.from_llm(\n",
    "    llm=llm,\n",
    "    graph=graph,\n",
    "    verbose=True,\n",
    "    allow_dangerous_requests=True  # ⚠️ Acknowledge that this chain can make dangerous queries\n",
    ")\n"
   ]
  },
  {
   "cell_type": "code",
   "execution_count": 17,
   "id": "4492b73f",
   "metadata": {},
   "outputs": [
    {
     "name": "stdout",
     "output_type": "stream",
     "text": [
      "\n",
      "\n",
      "\u001b[1m> Entering new GraphCypherQAChain chain...\u001b[0m\n"
     ]
    },
    {
     "name": "stderr",
     "output_type": "stream",
     "text": [
      "C:\\Users\\Admin\\AppData\\Local\\Temp\\ipykernel_1660\\3571340491.py:1: LangChainDeprecationWarning: The method `Chain.run` was deprecated in langchain 0.1.0 and will be removed in 1.0. Use :meth:`~invoke` instead.\n",
      "  chain.run(\"Who are the members of the Order of the Phoenix?\")\n"
     ]
    },
    {
     "name": "stdout",
     "output_type": "stream",
     "text": [
      "Generated Cypher:\n",
      "\u001b[32;1m\u001b[1;3mMATCH (p:Person)-[:LOYAL_TO]->(o:Organization {name:\"Order of the Phoenix\"}) RETURN p.name\n",
      "\u001b[0m\n",
      "Full Context:\n",
      "\u001b[32;1m\u001b[1;3m[{'p.name': 'Harry James Potter'}, {'p.name': 'Ronald Bilius Weasley'}, {'p.name': 'Hermione Jean Granger'}, {'p.name': 'Albus Percival Wulfric Brian Dumbledore'}, {'p.name': 'Rubeus Hagrid'}, {'p.name': 'Neville Longbottom'}, {'p.name': 'Fred Weasley'}, {'p.name': 'George Weasley'}, {'p.name': 'Ginevra (Ginny) Molly Weasley'}, {'p.name': 'Lily J. Potter'}]\u001b[0m\n",
      "\n",
      "\u001b[1m> Finished chain.\u001b[0m\n"
     ]
    },
    {
     "data": {
      "text/plain": [
       "'Harry James Potter, Ronald Bilius Weasley, Hermione Jean Granger, Albus Percival Wulfric Brian Dumbledore, Rubeus Hagrid, Neville Longbottom, Fred Weasley, George Weasley, Ginevra (Ginny) Molly Weasley, and Lily J. Potter.  \\n'"
      ]
     },
     "execution_count": 17,
     "metadata": {},
     "output_type": "execute_result"
    }
   ],
   "source": [
    "chain.run(\"Who are the members of the Order of the Phoenix?\")"
   ]
  },
  {
   "cell_type": "code",
   "execution_count": 22,
   "id": "c317b52d",
   "metadata": {},
   "outputs": [
    {
     "name": "stdout",
     "output_type": "stream",
     "text": [
      "\n",
      "\n",
      "\u001b[1m> Entering new GraphCypherQAChain chain...\u001b[0m\n",
      "Generated Cypher:\n",
      "\u001b[32;1m\u001b[1;3mMATCH (p:Person {name: \"Sirius Black\"})-[:LOYAL_TO]->(o:Organization) RETURN o.name \n",
      "\u001b[0m\n",
      "Full Context:\n",
      "\u001b[32;1m\u001b[1;3m[{'o.name': 'Order of the Phoenix'}]\u001b[0m\n",
      "\n",
      "\u001b[1m> Finished chain.\u001b[0m\n"
     ]
    },
    {
     "data": {
      "text/plain": [
       "'Order of the Phoenix.  \\n'"
      ]
     },
     "execution_count": 22,
     "metadata": {},
     "output_type": "execute_result"
    }
   ],
   "source": [
    "chain.run(\"Which organizations is Sirius Black loyal to?\")"
   ]
  },
  {
   "cell_type": "code",
   "execution_count": null,
   "id": "e07e88d6",
   "metadata": {},
   "outputs": [],
   "source": []
  }
 ],
 "metadata": {
  "kernelspec": {
   "display_name": "base",
   "language": "python",
   "name": "python3"
  },
  "language_info": {
   "codemirror_mode": {
    "name": "ipython",
    "version": 3
   },
   "file_extension": ".py",
   "mimetype": "text/x-python",
   "name": "python",
   "nbconvert_exporter": "python",
   "pygments_lexer": "ipython3",
   "version": "3.12.7"
  }
 },
 "nbformat": 4,
 "nbformat_minor": 5
}
